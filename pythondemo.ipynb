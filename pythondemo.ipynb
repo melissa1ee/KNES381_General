{
 "cells": [
  {
   "cell_type": "code",
   "execution_count": 1,
   "id": "f4e4318b",
   "metadata": {
    "_cell_guid": "b1076dfc-b9ad-4769-8c92-a6c4dae69d19",
    "_uuid": "8f2839f25d086af736a60e9eeb907d3b93b6e0e5",
    "execution": {
     "iopub.execute_input": "2023-04-17T20:22:48.000795Z",
     "iopub.status.busy": "2023-04-17T20:22:48.000373Z",
     "iopub.status.idle": "2023-04-17T20:22:48.017769Z",
     "shell.execute_reply": "2023-04-17T20:22:48.016772Z"
    },
    "papermill": {
     "duration": 0.028384,
     "end_time": "2023-04-17T20:22:48.021371",
     "exception": false,
     "start_time": "2023-04-17T20:22:47.992987",
     "status": "completed"
    },
    "tags": []
   },
   "outputs": [
    {
     "name": "stdout",
     "output_type": "stream",
     "text": [
      "/kaggle/input/full-data-set/subject_1321.xlsx\n",
      "/kaggle/input/full-data-set/subject_1432.xlsx\n",
      "/kaggle/input/full-data-set/subject_1321.csv\n",
      "/kaggle/input/full-data-set/subject_1232.csv\n",
      "/kaggle/input/full-data-set/VO2_CSV.csv\n",
      "/kaggle/input/full-data-set/subject_1232.xlsx\n",
      "/kaggle/input/full-data-set/subject_1432.csv\n",
      "/kaggle/input/full-data-set/subject_1523.csv\n",
      "/kaggle/input/full-data-set/VO2_excel.xlsx\n",
      "/kaggle/input/full-data-set/subject_1523.xlsx\n"
     ]
    }
   ],
   "source": [
    "# This Python 3 environment comes with many helpful analytics libraries installed\n",
    "# It is defined by the kaggle/python Docker image: https://github.com/kaggle/docker-python\n",
    "# For example, here's several helpful packages to load\n",
    "\n",
    "import numpy as np # linear algebra\n",
    "import pandas as pd # data processing, CSV file I/O (e.g. pd.read_csv)\n",
    "\n",
    "# Input data files are available in the read-only \"../input/\" directory\n",
    "# For example, running this (by clicking run or pressing Shift+Enter) will list all files under the input directory\n",
    "\n",
    "import os\n",
    "for dirname, _, filenames in os.walk('/kaggle/input'):\n",
    "    for filename in filenames:\n",
    "        print(os.path.join(dirname, filename))\n",
    "\n",
    "# You can write up to 20GB to the current directory (/kaggle/working/) that gets preserved as output when you create a version using \"Save & Run All\" \n",
    "# You can also write temporary files to /kaggle/temp/, but they won't be saved outside of the current session\n"
   ]
  },
  {
   "cell_type": "code",
   "execution_count": 2,
   "id": "f66d1521",
   "metadata": {
    "execution": {
     "iopub.execute_input": "2023-04-17T20:22:48.033250Z",
     "iopub.status.busy": "2023-04-17T20:22:48.032110Z",
     "iopub.status.idle": "2023-04-17T20:22:48.051260Z",
     "shell.execute_reply": "2023-04-17T20:22:48.050157Z"
    },
    "papermill": {
     "duration": 0.027845,
     "end_time": "2023-04-17T20:22:48.053964",
     "exception": false,
     "start_time": "2023-04-17T20:22:48.026119",
     "status": "completed"
    },
    "tags": []
   },
   "outputs": [],
   "source": [
    "import pandas as pd\n",
    "import matplotlib.pyplot as plt\n",
    "\n",
    "df = pd.read_csv('../input/full-data-set/subject_1321.csv', header=[0], skiprows=[1,2,3])\n"
   ]
  },
  {
   "cell_type": "code",
   "execution_count": 3,
   "id": "0b4adf02",
   "metadata": {
    "execution": {
     "iopub.execute_input": "2023-04-17T20:22:48.065791Z",
     "iopub.status.busy": "2023-04-17T20:22:48.064945Z",
     "iopub.status.idle": "2023-04-17T20:22:48.093122Z",
     "shell.execute_reply": "2023-04-17T20:22:48.091076Z"
    },
    "papermill": {
     "duration": 0.037821,
     "end_time": "2023-04-17T20:22:48.096273",
     "exception": false,
     "start_time": "2023-04-17T20:22:48.058452",
     "status": "completed"
    },
    "tags": []
   },
   "outputs": [
    {
     "name": "stdout",
     "output_type": "stream",
     "text": [
      "<class 'pandas.core.frame.DataFrame'>\n",
      "RangeIndex: 54 entries, 0 to 53\n",
      "Data columns (total 17 columns):\n",
      " #   Column   Non-Null Count  Dtype  \n",
      "---  ------   --------------  -----  \n",
      " 0   TIME     54 non-null     float64\n",
      " 1   VO2      54 non-null     float64\n",
      " 2   VO2/kg   54 non-null     float64\n",
      " 3   METS     54 non-null     float64\n",
      " 4   VCO2     54 non-null     float64\n",
      " 5   VE       54 non-null     float64\n",
      " 6   RER      54 non-null     float64\n",
      " 7   RR       54 non-null     float64\n",
      " 8   Vt       54 non-null     float64\n",
      " 9   FEO2     54 non-null     float64\n",
      " 10  FECO2    54 non-null     float64\n",
      " 11  HR       54 non-null     float64\n",
      " 12  VE/      54 non-null     float64\n",
      " 13  VE/.1    54 non-null     float64\n",
      " 14  PetCO2   54 non-null     float64\n",
      " 15  Power    51 non-null     float64\n",
      " 16  Lactate  8 non-null      object \n",
      "dtypes: float64(16), object(1)\n",
      "memory usage: 7.3+ KB\n"
     ]
    }
   ],
   "source": [
    "df.info()"
   ]
  },
  {
   "cell_type": "code",
   "execution_count": 4,
   "id": "93c126c1",
   "metadata": {
    "execution": {
     "iopub.execute_input": "2023-04-17T20:22:48.107843Z",
     "iopub.status.busy": "2023-04-17T20:22:48.106610Z",
     "iopub.status.idle": "2023-04-17T20:22:48.122348Z",
     "shell.execute_reply": "2023-04-17T20:22:48.120567Z"
    },
    "papermill": {
     "duration": 0.024158,
     "end_time": "2023-04-17T20:22:48.124956",
     "exception": false,
     "start_time": "2023-04-17T20:22:48.100798",
     "status": "completed"
    },
    "tags": []
   },
   "outputs": [
    {
     "name": "stdout",
     "output_type": "stream",
     "text": [
      "<class 'pandas.core.frame.DataFrame'>\n",
      "RangeIndex: 54 entries, 0 to 53\n",
      "Data columns (total 17 columns):\n",
      " #   Column   Non-Null Count  Dtype  \n",
      "---  ------   --------------  -----  \n",
      " 0   TIME     54 non-null     float64\n",
      " 1   VO2      54 non-null     float64\n",
      " 2   VO2/kg   54 non-null     float64\n",
      " 3   METS     54 non-null     float64\n",
      " 4   VCO2     54 non-null     float64\n",
      " 5   VE       54 non-null     float64\n",
      " 6   RER      54 non-null     float64\n",
      " 7   RR       54 non-null     float64\n",
      " 8   Vt       54 non-null     float64\n",
      " 9   FEO2     54 non-null     float64\n",
      " 10  FECO2    54 non-null     float64\n",
      " 11  HR       54 non-null     float64\n",
      " 12  VE/VO2   54 non-null     float64\n",
      " 13  VE/VCO2  54 non-null     float64\n",
      " 14  PetCO2   54 non-null     float64\n",
      " 15  Power    51 non-null     float64\n",
      " 16  Lactate  8 non-null      object \n",
      "dtypes: float64(16), object(1)\n",
      "memory usage: 7.3+ KB\n"
     ]
    }
   ],
   "source": [
    "### Renaming Columns\n",
    "\n",
    "df = df.rename(columns={'VE/': 'VE/VO2','VE/.1': 'VE/VCO2'})\n",
    "df.info()"
   ]
  },
  {
   "cell_type": "code",
   "execution_count": 5,
   "id": "569cf93a",
   "metadata": {
    "execution": {
     "iopub.execute_input": "2023-04-17T20:22:48.136775Z",
     "iopub.status.busy": "2023-04-17T20:22:48.136038Z",
     "iopub.status.idle": "2023-04-17T20:22:48.142016Z",
     "shell.execute_reply": "2023-04-17T20:22:48.140734Z"
    },
    "papermill": {
     "duration": 0.015097,
     "end_time": "2023-04-17T20:22:48.144547",
     "exception": false,
     "start_time": "2023-04-17T20:22:48.129450",
     "status": "completed"
    },
    "tags": []
   },
   "outputs": [],
   "source": [
    "### Simplifying Variables\n",
    "\n",
    "x = df['TIME']\n",
    "y = df['VO2']\n",
    "y1 = df['VE']"
   ]
  },
  {
   "cell_type": "code",
   "execution_count": 6,
   "id": "4f787194",
   "metadata": {
    "execution": {
     "iopub.execute_input": "2023-04-17T20:22:48.155632Z",
     "iopub.status.busy": "2023-04-17T20:22:48.154840Z",
     "iopub.status.idle": "2023-04-17T20:22:48.161409Z",
     "shell.execute_reply": "2023-04-17T20:22:48.159883Z"
    },
    "papermill": {
     "duration": 0.01491,
     "end_time": "2023-04-17T20:22:48.163966",
     "exception": false,
     "start_time": "2023-04-17T20:22:48.149056",
     "status": "completed"
    },
    "tags": []
   },
   "outputs": [],
   "source": [
    "### Finding VO2 Max\n",
    "\n",
    "ymax = max(y)\n",
    "xmax = x[y.argmax()]"
   ]
  },
  {
   "cell_type": "markdown",
   "id": "c69eb08c",
   "metadata": {
    "papermill": {
     "duration": 0.004186,
     "end_time": "2023-04-17T20:22:48.172721",
     "exception": false,
     "start_time": "2023-04-17T20:22:48.168535",
     "status": "completed"
    },
    "tags": []
   },
   "source": [
    "**The frame for the plot**"
   ]
  },
  {
   "cell_type": "code",
   "execution_count": 7,
   "id": "14a60232",
   "metadata": {
    "execution": {
     "iopub.execute_input": "2023-04-17T20:22:48.184306Z",
     "iopub.status.busy": "2023-04-17T20:22:48.183876Z",
     "iopub.status.idle": "2023-04-17T20:22:48.563644Z",
     "shell.execute_reply": "2023-04-17T20:22:48.562316Z"
    },
    "papermill": {
     "duration": 0.389693,
     "end_time": "2023-04-17T20:22:48.567326",
     "exception": false,
     "start_time": "2023-04-17T20:22:48.177633",
     "status": "completed"
    },
    "tags": []
   },
   "outputs": [
    {
     "data": {
      "image/png": "[encoded data removed]",
      "text/plain": [
       "<Figure size 640x480 with 2 Axes>"
      ]
     },
     "metadata": {},
     "output_type": "display_data"
    }
   ],
   "source": [
    "fig, ax = plt.subplots(2, 1, sharex=True)\n",
    "\n",
    "# create 2 subplots share x axis, in the next line we will remove \n",
    "fig.subplots_adjust(hspace=0)"
   ]
  },
  {
   "cell_type": "code",
   "execution_count": 8,
   "id": "14d87301",
   "metadata": {
    "execution": {
     "iopub.execute_input": "2023-04-17T20:22:48.582951Z",
     "iopub.status.busy": "2023-04-17T20:22:48.582505Z",
     "iopub.status.idle": "2023-04-17T20:22:48.591898Z",
     "shell.execute_reply": "2023-04-17T20:22:48.590596Z"
    },
    "papermill": {
     "duration": 0.02153,
     "end_time": "2023-04-17T20:22:48.595724",
     "exception": false,
     "start_time": "2023-04-17T20:22:48.574194",
     "status": "completed"
    },
    "tags": []
   },
   "outputs": [
    {
     "data": {
      "text/plain": [
       "Text(27.362507, 3.778085, '$\\\\dot VO_2max$ =(2.78) L/min')"
      ]
     },
     "execution_count": 8,
     "metadata": {},
     "output_type": "execute_result"
    }
   ],
   "source": [
    "### VO2 Dot Annotation\n",
    "\n",
    "ax[0].annotate('$\\dot VO_2max$ =({}) L/min'.format(round(ymax, 2)), \n",
    "               xy=(xmax, ymax), xytext=(xmax+.5, ymax+ 1),\n",
    "               arrowprops=dict(facecolor='red', shrink= 0.05),\n",
    "                )"
   ]
  },
  {
   "cell_type": "markdown",
   "id": "5d95f5a6",
   "metadata": {
    "papermill": {
     "duration": 0.006652,
     "end_time": "2023-04-17T20:22:48.609525",
     "exception": false,
     "start_time": "2023-04-17T20:22:48.602873",
     "status": "completed"
    },
    "tags": []
   },
   "source": [
    "**Main Plot**"
   ]
  },
  {
   "cell_type": "code",
   "execution_count": 9,
   "id": "1e9f4362",
   "metadata": {
    "execution": {
     "iopub.execute_input": "2023-04-17T20:22:48.626537Z",
     "iopub.status.busy": "2023-04-17T20:22:48.625745Z",
     "iopub.status.idle": "2023-04-17T20:22:48.640727Z",
     "shell.execute_reply": "2023-04-17T20:22:48.638753Z"
    },
    "papermill": {
     "duration": 0.027883,
     "end_time": "2023-04-17T20:22:48.644290",
     "exception": false,
     "start_time": "2023-04-17T20:22:48.616407",
     "status": "completed"
    },
    "tags": []
   },
   "outputs": [
    {
     "data": {
      "text/plain": [
       "<matplotlib.legend.Legend at 0x7693c7413650>"
      ]
     },
     "execution_count": 9,
     "metadata": {},
     "output_type": "execute_result"
    }
   ],
   "source": [
    "### First Plot\n",
    "\n",
    "ax[0].plot(x, y,  label=('$\\dot VO_2$'), c='r' )\n",
    "ax[0].spines[['right', 'top']].set_visible(False)\n",
    "\n",
    "ax[0].set(ylabel=('L/min'))\n",
    "ax[0].legend()"
   ]
  },
  {
   "cell_type": "code",
   "execution_count": 10,
   "id": "d314b779",
   "metadata": {
    "execution": {
     "iopub.execute_input": "2023-04-17T20:22:48.662214Z",
     "iopub.status.busy": "2023-04-17T20:22:48.661710Z",
     "iopub.status.idle": "2023-04-17T20:22:48.673921Z",
     "shell.execute_reply": "2023-04-17T20:22:48.672507Z"
    },
    "papermill": {
     "duration": 0.024932,
     "end_time": "2023-04-17T20:22:48.676495",
     "exception": false,
     "start_time": "2023-04-17T20:22:48.651563",
     "status": "completed"
    },
    "tags": []
   },
   "outputs": [
    {
     "data": {
      "text/plain": [
       "<matplotlib.legend.Legend at 0x7693c7413690>"
      ]
     },
     "execution_count": 10,
     "metadata": {},
     "output_type": "execute_result"
    }
   ],
   "source": [
    "### Second Plot\n",
    "\n",
    "ax[1].plot(x, y1, label=('VE'), c='b')\n",
    "ax[1].spines[['top', 'right']].set_visible(False)\n",
    "ax[1].set(ylabel=('breaths/min'))\n",
    "ax[1].legend()"
   ]
  },
  {
   "cell_type": "code",
   "execution_count": 11,
   "id": "1c718fde",
   "metadata": {
    "execution": {
     "iopub.execute_input": "2023-04-17T20:22:48.690156Z",
     "iopub.status.busy": "2023-04-17T20:22:48.688846Z",
     "iopub.status.idle": "2023-04-17T20:22:49.470312Z",
     "shell.execute_reply": "2023-04-17T20:22:49.469202Z"
    },
    "papermill": {
     "duration": 0.791275,
     "end_time": "2023-04-17T20:22:49.473214",
     "exception": false,
     "start_time": "2023-04-17T20:22:48.681939",
     "status": "completed"
    },
    "tags": []
   },
   "outputs": [],
   "source": [
    "### Naming File\n",
    "\n",
    "fig.savefig(\"VO2_Graph\", dpi=300, bbox_inches = \"tight\")"
   ]
  },
  {
   "cell_type": "code",
   "execution_count": 12,
   "id": "9d8a2ced",
   "metadata": {
    "execution": {
     "iopub.execute_input": "2023-04-17T20:22:49.486502Z",
     "iopub.status.busy": "2023-04-17T20:22:49.485466Z",
     "iopub.status.idle": "2023-04-17T20:22:49.996284Z",
     "shell.execute_reply": "2023-04-17T20:22:49.994771Z"
    },
    "papermill": {
     "duration": 0.520795,
     "end_time": "2023-04-17T20:22:49.999234",
     "exception": false,
     "start_time": "2023-04-17T20:22:49.478439",
     "status": "completed"
    },
    "tags": []
   },
   "outputs": [
    {
     "data": {
      "image/png": "[encoded data removed]",
      "text/plain": [
       "<Figure size 640x480 with 2 Axes>"
      ]
     },
     "metadata": {},
     "output_type": "display_data"
    }
   ],
   "source": [
    "### Putting Plot Code Together\n",
    "\n",
    "fig, ax = plt.subplots(2, 1, sharex=True)\n",
    "\n",
    "fig.subplots_adjust(hspace=0)\n",
    "ax[0].annotate('$\\dot VO_2max$ =({}) L/min'.format(round(ymax, 2)), \n",
    "               xy=(xmax, ymax), xytext=(xmax+.5, ymax+ 1),\n",
    "               arrowprops=dict(facecolor='red', shrink= 0.05),\n",
    "                )\n",
    "\n",
    "ax[0].plot(x, y,  label=('$\\dot VO_2$'), c='r' )\n",
    "ax[0].spines[['right', 'top']].set_visible(False)\n",
    " \n",
    "ax[0].set(ylabel=('L/min'))\n",
    "ax[0].legend()\n",
    "\n",
    "ax[1].plot(x, y1, label=('VE'), c='b')\n",
    "ax[1].spines[['top', 'right']].set_visible(False)\n",
    "ax[1].set(ylabel=('breaths/min'))\n",
    "ax[1].legend()\n",
    "fig.show()"
   ]
  }
 ],
 "metadata": {
  "kernelspec": {
   "display_name": "Python 3",
   "language": "python",
   "name": "python3"
  },
  "language_info": {
   "codemirror_mode": {
    "name": "ipython",
    "version": 3
   },
   "file_extension": ".py",
   "mimetype": "text/x-python",
   "name": "python",
   "nbconvert_exporter": "python",
   "pygments_lexer": "ipython3",
   "version": "3.7.12"
  },
  "papermill": {
   "default_parameters": {},
   "duration": 13.94267,
   "end_time": "2023-04-17T20:22:50.730147",
   "environment_variables": {},
   "exception": null,
   "input_path": "__notebook__.ipynb",
   "output_path": "__notebook__.ipynb",
   "parameters": {},
   "start_time": "2023-04-17T20:22:36.787477",
   "version": "2.4.0"
  }
 },
 "nbformat": 4,
 "nbformat_minor": 5
}
